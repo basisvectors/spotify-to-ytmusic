{
 "cells": [
  {
   "cell_type": "code",
   "execution_count": 1,
   "metadata": {},
   "outputs": [],
   "source": [
    "import json\n",
    "import random\n",
    "import convert\n",
    "from ytmusicapi import YTMusic\n",
    "import pandas as pd\n",
    "\n",
    "with open(\"YourLibrary.json\", encoding=\"utf-8\") as f:\n",
    "    library = json.load(f)\n",
    "\n",
    "with open(\"Playlist1.json\", encoding=\"utf-8\") as f:\n",
    "    playlists = json.load(f)['playlists']\n",
    "\n",
    "liked_tracks = library['tracks']\n",
    "\n",
    "jsons = [\"Streaming_History_Audio_2018-2020_0.json\",\n",
    "\"Streaming_History_Audio_2020-2022_1.json\",\n",
    "\"Streaming_History_Audio_2022-2023_2.json\",\n",
    "\"Streaming_History_Audio_2023-2024_3.json\"]\n",
    "full_streaming_history = pd.concat(pd.read_json(json) for json in jsons)\n",
    "\n",
    "ytmusic = YTMusic(\"oauth.json\")\n",
    "\n",
    "# auto reload library\n",
    "%load_ext autoreload\n",
    "%autoreload 2"
   ]
  },
  {
   "cell_type": "code",
   "execution_count": null,
   "metadata": {},
   "outputs": [],
   "source": [
    "from tqdm import tqdm\n",
    "\n",
    "max_per_playlist = 50\n",
    "for pl in tqdm(playlists):\n",
    "    if len(pl['items']) == 0:\n",
    "        continue\n",
    "    if len(pl['items']) > max_per_playlist:\n",
    "        print(\n",
    "            f\"Playlist {pl['name']} has more than {max_per_playlist} tracks: {len(pl['items'])}\")\n",
    "    convert.convert_to_playlist(ytmusic, pl)"
   ]
  },
  {
   "cell_type": "code",
   "execution_count": null,
   "metadata": {},
   "outputs": [],
   "source": [
    "playlist_data, uri_dict = convert.convert_to_playlist(ytmusic, {\n",
    "    \"name\": \"Liked Songs\",\n",
    "    \"items\": liked_tracks,\n",
    "    \"description\": \"Liked songs from Spotify\"\n",
    "}, from_liked_track_list=True, dry_run=True)"
   ]
  },
  {
   "cell_type": "code",
   "execution_count": null,
   "metadata": {},
   "outputs": [],
   "source": []
  }
 ],
 "metadata": {
  "kernelspec": {
   "display_name": "Python 3",
   "language": "python",
   "name": "python3"
  },
  "language_info": {
   "codemirror_mode": {
    "name": "ipython",
    "version": 3
   },
   "file_extension": ".py",
   "mimetype": "text/x-python",
   "name": "python",
   "nbconvert_exporter": "python",
   "pygments_lexer": "ipython3",
   "version": "3.9.13"
  }
 },
 "nbformat": 4,
 "nbformat_minor": 2
}

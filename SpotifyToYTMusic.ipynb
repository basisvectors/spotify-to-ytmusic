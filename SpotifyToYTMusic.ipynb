{
 "cells": [
  {
   "cell_type": "code",
   "execution_count": null,
   "metadata": {},
   "outputs": [],
   "source": [
    "!pip install ytmusicapi\n",
    "!ytmusicapi oauth\n"
   ]
  },
  {
   "cell_type": "code",
   "execution_count": 1,
   "metadata": {},
   "outputs": [],
   "source": [
    "import json\n",
    "import random\n",
    "import convert\n",
    "from ytmusicapi import YTMusic\n",
    "import pandas as pd\n",
    "\n",
    "with open(\"YourLibrary.json\", encoding=\"utf-8\") as f:\n",
    "    library = json.load(f)\n",
    "\n",
    "with open(\"Playlist1.json\", encoding=\"utf-8\") as f:\n",
    "    playlists = json.load(f)['playlists']\n",
    "\n",
    "jsons = [\"Streaming_History_Audio_2018-2020_0.json\",\n",
    "\"Streaming_History_Audio_2020-2022_1.json\",\n",
    "\"Streaming_History_Audio_2022-2023_2.json\",\n",
    "\"Streaming_History_Audio_2023-2024_3.json\"]\n",
    "full_streaming_history = pd.concat(pd.read_json(json) for json in jsons)\n",
    "\n",
    "ytmusic = YTMusic(\"oauth.json\")\n",
    "\n",
    "# auto reload library\n",
    "%load_ext autoreload\n",
    "%autoreload 2"
   ]
  },
  {
   "cell_type": "code",
   "execution_count": null,
   "metadata": {},
   "outputs": [],
   "source": [
    "from tqdm import tqdm\n",
    "from time import sleep\n",
    "import convert\n",
    "\n",
    "artists = pd.DataFrame(library[\"artists\"])\n",
    "\n",
    "artists['channelId'] = \"\"\n",
    "\n",
    "max = 100\n",
    "redo = []\n",
    "for i, row in tqdm(artists.iterrows(), total=len(artists)):\n",
    "    if row[\"channelId\"] == \"\":\n",
    "        try:\n",
    "            artists.loc[i, 'channelId'] = convert.search_for_artist(ytmusic, row[\"name\"])\n",
    "        except:\n",
    "            print(f\"Error with {row['name']}\")\n",
    "            redo.append(i)\n",
    "            \n",
    "        if i % max == 0:\n",
    "            tqdm.write(f\"Sleeping for 15 seconds\")\n",
    "            sleep(5)\n",
    "\n",
    "artists.to_csv(\"artist_cids_uncorrected.csv\", index=False)\n"
   ]
  },
  {
   "cell_type": "code",
   "execution_count": null,
   "metadata": {},
   "outputs": [],
   "source": [
    "# artists = pd.read_csv(\"artist_cids_uncorrected.csv\")\n",
    "\n",
    "empty = []\n",
    "fixed = []\n",
    "\n",
    "artists['test_track'] = \"\"\n",
    "for index, row in artists.iterrows():\n",
    "    test_track = \"\"\n",
    "    if row[\"name\"] in full_streaming_history[\"master_metadata_album_artist_name\"].values:\n",
    "        test_track = full_streaming_history[full_streaming_history[\"master_metadata_album_artist_name\"] == row[\"name\"]].iloc[0]['master_metadata_track_name']\n",
    "    artists.loc[index, 'test_track'] = test_track\n",
    "\n",
    "\n",
    "def get_correct_id(index, row):\n",
    "    try:\n",
    "        return ytmusic.search(f\"{row['name']} - {row['test_track']}\", filter=\"songs\", ignore_spelling=True)[0][\"artists\"][0][\"id\"]\n",
    "    except:\n",
    "        empty.append([index, ytmusic.search(f\"{row['name']} - {row['test_track']}\", filter=\"songs\", ignore_spelling=True)])\n",
    "        return row[\"channelId\"]\n",
    "    \n",
    "for index, row in tqdm(artists.iterrows(), total=len(artists)):\n",
    "    if row[\"test_track\"] != \"\":\n",
    "        correct_id = get_correct_id(index, row)\n",
    "        if correct_id != row[\"channelId\"]:\n",
    "            fixed.append([\n",
    "                index,\n",
    "                row[\"name\"],\n",
    "                row[\"channelId\"],\n",
    "                correct_id\n",
    "            ])\n",
    "            artists.loc[index, 'channelId'] = correct_id\n"
   ]
  },
  {
   "cell_type": "code",
   "execution_count": null,
   "metadata": {},
   "outputs": [],
   "source": [
    "def channel_url(channel_id):\n",
    "    return f\"https://music.youtube.com/channel/{channel_id}\"\n",
    "\n",
    "[(k[0], f\"{artists.iloc[k[0]]['name']} - {artists.iloc[k[0]]['test_track']}\", channel_url(artists.iloc[k[0]][\"channelId\"])) for k in empty]"
   ]
  },
  {
   "cell_type": "code",
   "execution_count": null,
   "metadata": {},
   "outputs": [],
   "source": [
    "ytmusic.search(f\"Three Oscillators - Extant, Pt. 2\", filter=\"songs\", ignore_spelling=True)"
   ]
  },
  {
   "cell_type": "code",
   "execution_count": null,
   "metadata": {},
   "outputs": [],
   "source": [
    "[(k[1], f\"{channel_url(k[2])}\",f\"{channel_url(k[3])}\") for k in fixed]"
   ]
  },
  {
   "cell_type": "code",
   "execution_count": 16,
   "metadata": {},
   "outputs": [],
   "source": [
    "artists.to_csv(\"artist_cids2.csv\", index=False)\n"
   ]
  },
  {
   "cell_type": "code",
   "execution_count": 17,
   "metadata": {},
   "outputs": [],
   "source": [
    "row = artists[artists[\"name\"] == \"reggie\"].iloc[0]"
   ]
  },
  {
   "cell_type": "code",
   "execution_count": null,
   "metadata": {},
   "outputs": [],
   "source": [
    "f\"{row['name']} - {row['test_track']}\""
   ]
  },
  {
   "cell_type": "code",
   "execution_count": null,
   "metadata": {},
   "outputs": [],
   "source": [
    "ytmusic.search(f\"{row['name']} - {row['test_track']}\", filter=\"songs\")[0][\"artists\"][0][\"id\"] == row[\"channelId\"]\n"
   ]
  },
  {
   "cell_type": "code",
   "execution_count": null,
   "metadata": {},
   "outputs": [],
   "source": [
    "row"
   ]
  }
 ],
 "metadata": {
  "kernelspec": {
   "display_name": "Python 3",
   "language": "python",
   "name": "python3"
  },
  "language_info": {
   "codemirror_mode": {
    "name": "ipython",
    "version": 3
   },
   "file_extension": ".py",
   "mimetype": "text/x-python",
   "name": "python",
   "nbconvert_exporter": "python",
   "pygments_lexer": "ipython3",
   "version": "3.9.13"
  }
 },
 "nbformat": 4,
 "nbformat_minor": 2
}

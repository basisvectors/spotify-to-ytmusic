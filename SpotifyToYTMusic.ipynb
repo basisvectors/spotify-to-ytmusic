{
 "cells": [
  {
   "cell_type": "code",
   "execution_count": null,
   "metadata": {},
   "outputs": [],
   "source": [
    "!pip install ytmusicapi\n",
    "!ytmusicapi oauth\n"
   ]
  },
  {
   "cell_type": "code",
   "execution_count": null,
   "metadata": {},
   "outputs": [],
   "source": [
    "import json\n",
    "import random\n",
    "import convert\n",
    "from ytmusicapi import YTMusic\n",
    "import pandas as pd\n",
    "\n",
    "with open(\"YourLibrary.json\", encoding=\"utf-8\") as f:\n",
    "    library = json.load(f)\n",
    "\n",
    "with open(\"Playlist1.json\", encoding=\"utf-8\") as f:\n",
    "    playlists = json.load(f)['playlists']\n",
    "\n",
    "jsons = [\"Streaming_History_Audio_2018-2020_0.json\",\n",
    "\"Streaming_History_Audio_2020-2022_1.json\",\n",
    "\"Streaming_History_Audio_2022-2023_2.json\",\n",
    "\"Streaming_History_Audio_2023-2024_3.json\"]\n",
    "full_streaming_history = pd.concat(pd.read_json(json) for json in jsons)\n",
    "\n",
    "ytmusic = YTMusic(\"browser.json\")\n",
    "\n",
    "# auto reload library\n",
    "%load_ext autoreload\n",
    "%autoreload 2"
   ]
  },
  {
   "cell_type": "code",
   "execution_count": null,
   "metadata": {},
   "outputs": [],
   "source": [
    "artists = ytmusic.get_library_artists(limit=1000)"
   ]
  },
  {
   "cell_type": "code",
   "execution_count": null,
   "metadata": {},
   "outputs": [],
   "source": [
    "[k for k in artists if \"smith\" in k['artist'].lower()]"
   ]
  },
  {
   "cell_type": "markdown",
   "metadata": {},
   "source": [
    "# LIKED TRACKS"
   ]
  },
  {
   "cell_type": "code",
   "execution_count": null,
   "metadata": {},
   "outputs": [],
   "source": [
    "liked_tracks = library['tracks']\n",
    "playlist_data, uri_dict = convert.convert_to_playlist(ytmusic, {\n",
    "    \"name\": \"Liked Songs\",\n",
    "    \"items\": liked_tracks,\n",
    "    \"description\": \"Liked songs from Spotify\"\n",
    "}, from_liked_track_list=True, dry_run=True)"
   ]
  },
  {
   "cell_type": "code",
   "execution_count": null,
   "metadata": {},
   "outputs": [],
   "source": [
    "with open(\"uri_dict.json\", \"w\") as f:\n",
    "    json.dump(uri_dict, f, indent=4)"
   ]
  },
  {
   "cell_type": "code",
   "execution_count": null,
   "metadata": {},
   "outputs": [],
   "source": [
    "playlist_data = []\n",
    "duplicate_uris = []\n",
    "for k,v in uri_dict.items():\n",
    "    if v not in playlist_data:\n",
    "        playlist_data.append(v)\n",
    "    else:\n",
    "        duplicate_uris.append(k)"
   ]
  },
  {
   "cell_type": "code",
   "execution_count": null,
   "metadata": {},
   "outputs": [],
   "source": [
    "liked_tracks = library['tracks']\n",
    "playlist_data, uri_dict = convert.convert_to_playlist(ytmusic, {\n",
    "    \"name\": \"Spotify Liked Songs\",\n",
    "    \"items\": liked_tracks,\n",
    "    \"description\": \"Liked songs from Spotify\"\n",
    "}, wet_run_data=(playlist_data, uri_dict))"
   ]
  },
  {
   "cell_type": "code",
   "execution_count": null,
   "metadata": {},
   "outputs": [],
   "source": [
    "# Check what stuff was left out because it was not found or was a duplicate\n",
    "\n",
    "def find_track_name(uri):\n",
    "    for track in liked_tracks:\n",
    "        if track['uri'] == uri:\n",
    "            return f\"{track['track']} - {track['artist']} - {track['album']}\"\n",
    "    return None\n",
    "\n",
    "a = {}\n",
    "for k, v in uri_dict.items():\n",
    "    if v not in a:\n",
    "        a[v] = []\n",
    "    a[v].append(k)\n",
    "\n",
    "[[f\"https://youtu.be/watch?v={i}\", [find_track_name(j) for j in a[i]]] for i in a if len(a[i]) > 1]"
   ]
  },
  {
   "cell_type": "markdown",
   "metadata": {},
   "source": [
    "# PLAYLISTS"
   ]
  },
  {
   "cell_type": "code",
   "execution_count": 24,
   "metadata": {},
   "outputs": [
    {
     "data": {
      "text/plain": [
       "136"
      ]
     },
     "execution_count": 24,
     "metadata": {},
     "output_type": "execute_result"
    }
   ],
   "source": [
    "len(playlists)"
   ]
  },
  {
   "cell_type": "markdown",
   "metadata": {},
   "source": [
    "# ALBUMS"
   ]
  },
  {
   "cell_type": "code",
   "execution_count": null,
   "metadata": {},
   "outputs": [],
   "source": [
    "albums = pd.DataFrame(library['albums'])"
   ]
  },
  {
   "cell_type": "code",
   "execution_count": null,
   "metadata": {},
   "outputs": [],
   "source": [
    "album = library['albums'][53]\n",
    "# album = library['albums'][25]\n"
   ]
  },
  {
   "cell_type": "code",
   "execution_count": null,
   "metadata": {},
   "outputs": [],
   "source": [
    "album"
   ]
  },
  {
   "cell_type": "code",
   "execution_count": null,
   "metadata": {},
   "outputs": [],
   "source": [
    "def verify_match(album, album_result):\n",
    "    title_match = album['album'].lower() == album_result['title'].lower()\n",
    "    artist_match = album['artist'].lower(\n",
    "    ) == album_result['artists'][0]['name'].lower()\n",
    "\n",
    "    if not title_match and not artist_match:\n",
    "        return False\n",
    "    if title_match and not artist_match:\n",
    "        print(\n",
    "            f\"Title match but artist mismatch: {album['album']} {album['artist']}\")\n",
    "        substring_search = album['artist'].lower() in album_result['artists'][0]['name'].lower()\n",
    "        if not substring_search:\n",
    "            print(f\"Substring search failed: {album['artist']} {album_result['artists'][0]['name']}\")\n",
    "            return False\n",
    "        return True\n",
    "    if not title_match and artist_match:\n",
    "        print(\n",
    "            f\"Artist match but title mismatch: {album['album']} {album['artist']}\")\n",
    "        return True\n",
    "    return True\n",
    "\n",
    "\n",
    "search_query = f\"{album['album']}\"\n",
    "if album['artist'] != \"Various Artists\":\n",
    "    search_query += f\" {album['artist']}\"\n",
    "\n",
    "results = ytmusic.search(\n",
    "    search_query, filter=\"albums\", ignore_spelling=True)\n",
    "\n",
    "if len(results) == 0:\n",
    "    print(f\"Could not find {album['album']} {album['artist']}\")\n",
    "\n",
    "\n",
    "matches = [result for result in results if verify_match(album, result)]\n",
    "\n",
    "if len(matches) == 0:\n",
    "\n",
    "    print(f\"results: {results}\")\n",
    "    raise Exception(f\"Could not match {album['album']} {album['artist']}\")"
   ]
  },
  {
   "cell_type": "code",
   "execution_count": null,
   "metadata": {},
   "outputs": [],
   "source": [
    "matches[0]"
   ]
  },
  {
   "cell_type": "code",
   "execution_count": null,
   "metadata": {},
   "outputs": [],
   "source": [
    "convert.search_for_album(ytmusic, album)"
   ]
  },
  {
   "cell_type": "code",
   "execution_count": null,
   "metadata": {},
   "outputs": [],
   "source": [
    "from tqdm import tqdm\n",
    "results = []\n",
    "failed = []\n",
    "for album in tqdm(library['albums']):\n",
    "    try:\n",
    "        res = convert.search_for_album(ytmusic, album)\n",
    "        results.append(ytmusic.rate_playlist(res, \"LIKE\"))\n",
    "    except:\n",
    "        failed.append(album)"
   ]
  },
  {
   "cell_type": "code",
   "execution_count": null,
   "metadata": {},
   "outputs": [],
   "source": [
    "[f\"{album['album']} - {album['artist']}\" for album in failed]"
   ]
  },
  {
   "cell_type": "code",
   "execution_count": null,
   "metadata": {},
   "outputs": [],
   "source": [
    "len(library['albums'])\n",
    "res = convert.search_for_album(ytmusic,library['albums'][2])\n",
    "ytmusic.rate_playlist(res[0][\"playlistId\"], \"LIKE\")\n"
   ]
  },
  {
   "cell_type": "code",
   "execution_count": null,
   "metadata": {},
   "outputs": [],
   "source": []
  },
  {
   "cell_type": "code",
   "execution_count": null,
   "metadata": {},
   "outputs": [],
   "source": []
  },
  {
   "cell_type": "markdown",
   "metadata": {},
   "source": [
    "# ARTISTS"
   ]
  },
  {
   "cell_type": "code",
   "execution_count": null,
   "metadata": {},
   "outputs": [],
   "source": [
    "from tqdm import tqdm\n",
    "from time import sleep\n",
    "import convert\n",
    "\n",
    "artists = pd.DataFrame(library[\"artists\"])\n",
    "\n",
    "artists['channelId'] = \"\"\n",
    "\n",
    "max = 100\n",
    "redo = []\n",
    "for i, row in tqdm(artists.iterrows(), total=len(artists)):\n",
    "    if row[\"channelId\"] == \"\":\n",
    "        try:\n",
    "            artists.loc[i, 'channelId'] = convert.search_for_artist(ytmusic, row[\"name\"])\n",
    "        except:\n",
    "            print(f\"Error with {row['name']}\")\n",
    "            redo.append(i)\n",
    "            \n",
    "        if i % max == 0:\n",
    "            tqdm.write(f\"Sleeping for 15 seconds\")\n",
    "            sleep(5)\n",
    "\n",
    "# artists.to_csv(\"artist_cids_uncorrected.csv\", index=False)\n"
   ]
  },
  {
   "cell_type": "code",
   "execution_count": null,
   "metadata": {},
   "outputs": [],
   "source": [
    "# artists = pd.read_csv(\"artist_cids_uncorrected.csv\")\n",
    "\n",
    "empty = []\n",
    "fixed = []\n",
    "\n",
    "artists['test_track'] = \"\"\n",
    "\n",
    "for index, row in artists.iterrows():\n",
    "    test_track = \"\"\n",
    "    if row[\"name\"] in full_streaming_history[\"master_metadata_album_artist_name\"].values:\n",
    "        test_track = full_streaming_history[full_streaming_history[\"master_metadata_album_artist_name\"] == row[\"name\"]].iloc[0]['master_metadata_track_name']\n",
    "    artists.loc[index, 'test_track'] = test_track\n",
    "\n",
    "\n",
    "def get_correct_id(index, row):\n",
    "    try:\n",
    "        return ytmusic.search(f\"{row['name']} - {row['test_track']}\", filter=\"songs\", ignore_spelling=True)[0][\"artists\"][0][\"id\"]\n",
    "    except:\n",
    "        empty.append([index, ytmusic.search(f\"{row['name']} - {row['test_track']}\", filter=\"songs\", ignore_spelling=True)])\n",
    "        return row[\"channelId\"]\n",
    "    \n",
    "for index, row in tqdm(artists.iterrows(), total=len(artists)):\n",
    "    if row[\"test_track\"] != \"\":\n",
    "        correct_id = get_correct_id(index, row)\n",
    "        if correct_id != row[\"channelId\"]:\n",
    "            fixed.append([\n",
    "                index,\n",
    "                row[\"name\"],\n",
    "                row[\"channelId\"],\n",
    "                correct_id\n",
    "            ])\n",
    "            artists.loc[index, 'channelId'] = correct_id\n",
    "\n",
    "artists['alternateChannelId'] = \"\"\n",
    "\n",
    "for index, artist_name, alt_id, new_id in fixed:\n",
    "    if alt_id == artists.iloc[index]['channelId']:\n",
    "        continue\n",
    "    if new_id != artists.iloc[index]['channelId']:\n",
    "        continue\n",
    "    artists.loc[index, 'alternateChannelId'] = alt_id\n"
   ]
  },
  {
   "cell_type": "code",
   "execution_count": null,
   "metadata": {},
   "outputs": [],
   "source": [
    "# check which artists have not been corrected\n",
    "def channel_url(channel_id):\n",
    "    return f\"https://music.youtube.com/channel/{channel_id}\"\n",
    "\n",
    "[(k[0], f\"{artists.iloc[k[0]]['name']} - {artists.iloc[k[0]]['test_track']}\", channel_url(artists.iloc[k[0]][\"channelId\"])) for k in empty],\n",
    "[(k[1], f\"{channel_url(k[2])}\",f\"{channel_url(k[3])}\") for k in fixed]"
   ]
  },
  {
   "cell_type": "code",
   "execution_count": null,
   "metadata": {},
   "outputs": [],
   "source": [
    "# update subscribed status for artists\n",
    "for channelId in tqdm(artists.channelId.values):\n",
    "    if channelId == \"\" or pd.isna(channelId):\n",
    "        continue\n",
    "    artists.loc[artists['channelId'] == channelId,\n",
    "                'subscribed'] = ytmusic.get_artist(channelId)['subscribed']"
   ]
  },
  {
   "cell_type": "code",
   "execution_count": null,
   "metadata": {},
   "outputs": [],
   "source": [
    "#subscribe to artists\n",
    "# needs channelId, subscribed, alternateChannelId, name for each artist\n",
    "\n",
    "responses = []\n",
    "for index, channelId in enumerate(tqdm(artists[artists['subscribed'] == False].channelId.values)):\n",
    "\n",
    "    if channelId == \"\" or pd.isna(channelId) or artists.iloc[index]['subscribed'] == True:\n",
    "        continue\n",
    "\n",
    "    if ytmusic.get_artist(channelId)['subscribed']:\n",
    "        continue\n",
    "\n",
    "    responses.append([index, ytmusic.subscribe_artists(channelId)])\n",
    "\n",
    "    sleep(2)\n",
    "    if not ytmusic.get_artist(channelId)['subscribed']:\n",
    "        alt_id = artists.iloc[index]['alternateChannelId']\n",
    "\n",
    "        if alt_id != \"\":\n",
    "            responses.append([index, ytmusic.subscribe_artists(alt_id)])\n",
    "\n",
    "            sleep(2)\n",
    "            if not ytmusic.get_artist(alt_id)['subscribed']:\n",
    "                print(f\"Failed to subscribe to {artists.iloc[index]['name']}\"\n",
    "                      )"
   ]
  },
  {
   "cell_type": "markdown",
   "metadata": {},
   "source": [
    "# Reverse Search"
   ]
  },
  {
   "cell_type": "code",
   "execution_count": null,
   "metadata": {},
   "outputs": [],
   "source": [
    "artist_name = 'Mount Kimbie'\n",
    "f\"{full_streaming_history[full_streaming_history['master_metadata_album_artist_name'] == artist_name]['ms_played'].sum() / 1000 / 60 / 60:2f} hours listening to {artist_name}\""
   ]
  }
 ],
 "metadata": {
  "kernelspec": {
   "display_name": "Python 3",
   "language": "python",
   "name": "python3"
  },
  "language_info": {
   "codemirror_mode": {
    "name": "ipython",
    "version": 3
   },
   "file_extension": ".py",
   "mimetype": "text/x-python",
   "name": "python",
   "nbconvert_exporter": "python",
   "pygments_lexer": "ipython3",
   "version": "3.9.13"
  }
 },
 "nbformat": 4,
 "nbformat_minor": 2
}

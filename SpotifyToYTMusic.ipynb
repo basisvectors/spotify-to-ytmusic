{
 "cells": [
  {
   "cell_type": "code",
   "execution_count": null,
   "metadata": {},
   "outputs": [],
   "source": [
    "!pip install ytmusicapi\n",
    "!ytmusicapi oauth"
   ]
  },
  {
   "cell_type": "code",
   "execution_count": 1,
   "metadata": {},
   "outputs": [],
   "source": [
    "import json\n",
    "import random\n",
    "from convert import convert_to_yt, uri_to_url, get_channel_id\n",
    "from ytmusicapi import YTMusic\n",
    "\n",
    "with open(\"YourLibrary.json\", encoding=\"utf-8\") as f:\n",
    "    library = json.load(f)\n",
    "\n",
    "ytmusic = YTMusic(\"oauth.json\")"
   ]
  },
  {
   "cell_type": "code",
   "execution_count": 14,
   "metadata": {},
   "outputs": [
    {
     "name": "stdout",
     "output_type": "stream",
     "text": [
      "https://open.spotify.com/artist/2VarlUiM6Lw0SA7BvwVPRP\n"
     ]
    }
   ],
   "source": [
    "artist = random.choice(library[\"artists\"])\n",
    "print(uri_to_url(artist[\"uri\"]))"
   ]
  },
  {
   "cell_type": "code",
   "execution_count": 15,
   "metadata": {},
   "outputs": [
    {
     "data": {
      "text/plain": [
       "[{'url': 'https://music.youtube.com/channel/UCsIRWWLzm_nzDkKipCE349A',\n",
       "  'uri': 'https://music.youtube.com/channel/UCsIRWWLzm_nzDkKipCE349A',\n",
       "  'art_url': 'https://lh3.googleusercontent.com/wRYJk4O5qL7rSNIdZCGcRwdnzt4rvw4Y5TgNn-IhcWwb_PmdETYWhTYbxTXN90v8LF2clQIzYuUoaD0=w120-h120-p-l90-rj',\n",
       "  'description1': 'Forest Swords',\n",
       "  'description2': '',\n",
       "  'description3': '',\n",
       "  'description4': 'Artist'}]"
      ]
     },
     "metadata": {},
     "output_type": "display_data"
    },
    {
     "name": "stdout",
     "output_type": "stream",
     "text": [
      "https://music.youtube.com/channel/UCsIRWWLzm_nzDkKipCE349A\n"
     ]
    }
   ],
   "source": [
    "results = convert_to_yt(uri_to_url(artist[\"uri\"]))['results']\n",
    "display(results)\n",
    "uri = results[0]['uri']\n",
    "print(uri)\n",
    "channel_id = get_channel_id(uri) "
   ]
  },
  {
   "cell_type": "code",
   "execution_count": null,
   "metadata": {},
   "outputs": [],
   "source": [
    "ytmusic.subscribe_artists(channelIds=[channel_id])"
   ]
  }
 ],
 "metadata": {
  "kernelspec": {
   "display_name": "Python 3",
   "language": "python",
   "name": "python3"
  },
  "language_info": {
   "codemirror_mode": {
    "name": "ipython",
    "version": 3
   },
   "file_extension": ".py",
   "mimetype": "text/x-python",
   "name": "python",
   "nbconvert_exporter": "python",
   "pygments_lexer": "ipython3",
   "version": "3.9.13"
  }
 },
 "nbformat": 4,
 "nbformat_minor": 2
}
